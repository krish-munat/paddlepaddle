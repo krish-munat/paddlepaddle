{
  "cells": [
    {
      "cell_type": "markdown",
      "source": [
        "Peddle Peddle for object detection"
      ],
      "metadata": {
        "id": "X4L8hleveUkD"
      }
    },
    {
      "cell_type": "code",
      "source": [
        "!pip install paddlepaddle-gpu==2.4.2.post117 -f https://www.paddlepaddle.org.cn/whl/linux/mkl/avx/stable.html\n"
      ],
      "metadata": {
        "colab": {
          "base_uri": "https://localhost:8080/"
        },
        "id": "q2Tnw_hp8dyI",
        "outputId": "b96bebb6-c131-4f8a-b13d-c72ccb1ff4d5"
      },
      "execution_count": null,
      "outputs": [
        {
          "output_type": "stream",
          "name": "stdout",
          "text": [
            "Looking in links: https://www.paddlepaddle.org.cn/whl/linux/mkl/avx/stable.html\n",
            "Requirement already satisfied: paddlepaddle-gpu==2.4.2.post117 in /usr/local/lib/python3.10/dist-packages (2.4.2.post117)\n",
            "Requirement already satisfied: requests>=2.20.0 in /usr/local/lib/python3.10/dist-packages (from paddlepaddle-gpu==2.4.2.post117) (2.31.0)\n",
            "Requirement already satisfied: numpy>=1.13 in /usr/local/lib/python3.10/dist-packages (from paddlepaddle-gpu==2.4.2.post117) (1.23.5)\n",
            "Requirement already satisfied: protobuf<=3.20.0,>=3.1.0 in /usr/local/lib/python3.10/dist-packages (from paddlepaddle-gpu==2.4.2.post117) (3.20.0)\n",
            "Requirement already satisfied: Pillow in /usr/local/lib/python3.10/dist-packages (from paddlepaddle-gpu==2.4.2.post117) (9.4.0)\n",
            "Requirement already satisfied: six in /usr/local/lib/python3.10/dist-packages (from paddlepaddle-gpu==2.4.2.post117) (1.16.0)\n",
            "Requirement already satisfied: decorator in /usr/local/lib/python3.10/dist-packages (from paddlepaddle-gpu==2.4.2.post117) (4.4.2)\n",
            "Requirement already satisfied: astor in /usr/local/lib/python3.10/dist-packages (from paddlepaddle-gpu==2.4.2.post117) (0.8.1)\n",
            "Requirement already satisfied: paddle-bfloat==0.1.7 in /usr/local/lib/python3.10/dist-packages (from paddlepaddle-gpu==2.4.2.post117) (0.1.7)\n",
            "Requirement already satisfied: opt-einsum==3.3.0 in /usr/local/lib/python3.10/dist-packages (from paddlepaddle-gpu==2.4.2.post117) (3.3.0)\n",
            "Requirement already satisfied: charset-normalizer<4,>=2 in /usr/local/lib/python3.10/dist-packages (from requests>=2.20.0->paddlepaddle-gpu==2.4.2.post117) (3.3.2)\n",
            "Requirement already satisfied: idna<4,>=2.5 in /usr/local/lib/python3.10/dist-packages (from requests>=2.20.0->paddlepaddle-gpu==2.4.2.post117) (3.6)\n",
            "Requirement already satisfied: urllib3<3,>=1.21.1 in /usr/local/lib/python3.10/dist-packages (from requests>=2.20.0->paddlepaddle-gpu==2.4.2.post117) (2.0.7)\n",
            "Requirement already satisfied: certifi>=2017.4.17 in /usr/local/lib/python3.10/dist-packages (from requests>=2.20.0->paddlepaddle-gpu==2.4.2.post117) (2024.2.2)\n"
          ]
        }
      ]
    },
    {
      "cell_type": "markdown",
      "source": [
        "We  are using peddle peddle on cuda we need to install paddlepaddle-gpu. so, its command for gogle colab"
      ],
      "metadata": {
        "id": "XXs11H9Ie3Rv"
      }
    },
    {
      "cell_type": "code",
      "source": [
        "!pip install --upgrade setuptools"
      ],
      "metadata": {
        "colab": {
          "base_uri": "https://localhost:8080/"
        },
        "id": "Fc2851wA-kC-",
        "outputId": "d1b5f970-b543-467f-d34d-3bff1dc18ea6"
      },
      "execution_count": null,
      "outputs": [
        {
          "output_type": "stream",
          "name": "stdout",
          "text": [
            "Requirement already satisfied: setuptools in /usr/local/lib/python3.10/dist-packages (69.0.3)\n"
          ]
        }
      ]
    },
    {
      "cell_type": "code",
      "source": [
        "import paddle\n",
        "paddle.utils.run_check()"
      ],
      "metadata": {
        "colab": {
          "base_uri": "https://localhost:8080/"
        },
        "id": "BD3Nkm6b8eVb",
        "outputId": "e84a024d-0e6f-47b3-8938-76b6f2de2e70"
      },
      "execution_count": null,
      "outputs": [
        {
          "output_type": "stream",
          "name": "stderr",
          "text": [
            "WARNING:root:You are using GPU version PaddlePaddle, but there is no GPU detected on your machine. Maybe CUDA devices is not set properly.\n",
            " Original Error is \n"
          ]
        },
        {
          "output_type": "stream",
          "name": "stdout",
          "text": [
            "Running verify PaddlePaddle program ... \n",
            "PaddlePaddle works well on 1 CPU.\n",
            "PaddlePaddle works well on 2 CPUs.\n",
            "PaddlePaddle is installed successfully! Let's start deep learning with PaddlePaddle now.\n"
          ]
        }
      ]
    },
    {
      "cell_type": "markdown",
      "source": [
        "for using Paddle paddle clone the repository from github as"
      ],
      "metadata": {
        "id": "yyIde5ChfaJa"
      }
    },
    {
      "cell_type": "code",
      "source": [
        "!git clone https://github.com/PaddlePaddle/PaddleDetection.git"
      ],
      "metadata": {
        "colab": {
          "base_uri": "https://localhost:8080/"
        },
        "id": "exeiYWY-8--D",
        "outputId": "e0ab3cfd-217a-4013-a75c-6985604f5b9a"
      },
      "execution_count": null,
      "outputs": [
        {
          "output_type": "stream",
          "name": "stdout",
          "text": [
            "Cloning into 'PaddleDetection'...\n",
            "remote: Enumerating objects: 257131, done.\u001b[K\n",
            "remote: Counting objects: 100% (19/19), done.\u001b[K\n",
            "remote: Compressing objects: 100% (18/18), done.\u001b[K\n",
            "remote: Total 257131 (delta 9), reused 6 (delta 1), pack-reused 257112\u001b[K\n",
            "Receiving objects: 100% (257131/257131), 421.29 MiB | 33.53 MiB/s, done.\n",
            "Resolving deltas: 100% (209712/209712), done.\n"
          ]
        }
      ]
    },
    {
      "cell_type": "code",
      "source": [
        "cd PaddleDetection"
      ],
      "metadata": {
        "colab": {
          "base_uri": "https://localhost:8080/"
        },
        "id": "2hBZVfdu9cIM",
        "outputId": "0affc2e7-5f70-4974-b5ce-edc79a291263"
      },
      "execution_count": null,
      "outputs": [
        {
          "output_type": "stream",
          "name": "stdout",
          "text": [
            "/content/PaddleDetection/PaddleDetection/PaddleDetection/PaddleDetection/PaddleDetection/PaddleDetection\n"
          ]
        }
      ]
    },
    {
      "cell_type": "markdown",
      "source": [
        "Import the necessary libraries"
      ],
      "metadata": {
        "id": "Jmr3YzaTf0Nt"
      }
    },
    {
      "cell_type": "code",
      "source": [
        "import os\n",
        "from urllib.request import urlretrieve\n",
        "from zipfile import ZipFile\n",
        "import shutil\n",
        "import numpy as np\n",
        "import yaml\n",
        "import cv2\n",
        "from matplotlib import pyplot as plt\n",
        "from PIL import Image,ImageDraw, ImageFile, ImageFont\n",
        "import paddle\n",
        "\n",
        "import math\n",
        "import matplotlib\n",
        "import matplotlib.pyplot as plt"
      ],
      "metadata": {
        "id": "OQirVHvBBtkw"
      },
      "execution_count": null,
      "outputs": []
    },
    {
      "cell_type": "markdown",
      "source": [
        "Define some helper function that will be used later for downloading the necessary files"
      ],
      "metadata": {
        "id": "lBBf_UQNf8jM"
      }
    },
    {
      "cell_type": "code",
      "source": [
        "import os\n",
        "from urllib.request import urlretrieve\n",
        "from zipfile import ZipFile\n",
        "\n",
        "def download_and_unzip(url, save_path):\n",
        "    print(\"Downloading and extracting assets... \", end=\"\")\n",
        "    urlretrieve(url, save_path)\n",
        "    try:\n",
        "        with ZipFile(save_path) as z:\n",
        "            z.extractall(os.path.split(save_path)[0])\n",
        "        print(\"Done\")\n",
        "    except Exception as e:\n",
        "        print(\"\\nInvalid file.\", e)\n",
        "\n",
        "\n"
      ],
      "metadata": {
        "id": "VdGCpDQKDdFi"
      },
      "execution_count": null,
      "outputs": []
    },
    {
      "cell_type": "markdown",
      "source": [
        "Use predefined helper function"
      ],
      "metadata": {
        "id": "3s7nh-FhgRmx"
      }
    },
    {
      "cell_type": "code",
      "source": [
        "import os\n",
        "\n",
        "URL = r\"https://www.dropbox.com/s/a6nzj521t5woxp7/dtection_pose.zip?dl=1\"\n",
        "asset_zip_path = os.path.join(os.getcwd(), \"segmentation.zip\")\n",
        "\n",
        "if not os.path.exists(asset_zip_path):\n",
        "    download_and_unzip(URL, asset_zip_path)\n"
      ],
      "metadata": {
        "colab": {
          "base_uri": "https://localhost:8080/"
        },
        "id": "vMpPCCQBGHKT",
        "outputId": "cd492cda-457c-4376-b164-ea2345271e28"
      },
      "execution_count": null,
      "outputs": [
        {
          "output_type": "stream",
          "name": "stdout",
          "text": [
            "Downloading and extracting assets... Done\n"
          ]
        }
      ]
    },
    {
      "cell_type": "markdown",
      "source": [
        "Install the requirements as"
      ],
      "metadata": {
        "id": "8KkpSEP7gZBS"
      }
    },
    {
      "cell_type": "code",
      "source": [
        "pip install -r requirements.txt"
      ],
      "metadata": {
        "colab": {
          "base_uri": "https://localhost:8080/"
        },
        "id": "vl-eECFRHTQo",
        "outputId": "16d6a58c-b698-4981-8c14-84e35c54d930"
      },
      "execution_count": null,
      "outputs": [
        {
          "output_type": "stream",
          "name": "stdout",
          "text": [
            "Requirement already satisfied: numpy<1.24 in /usr/local/lib/python3.10/dist-packages (from -r requirements.txt (line 1)) (1.23.5)\n",
            "Requirement already satisfied: tqdm in /usr/local/lib/python3.10/dist-packages (from -r requirements.txt (line 2)) (4.66.1)\n",
            "Requirement already satisfied: typeguard in /usr/local/lib/python3.10/dist-packages (from -r requirements.txt (line 3)) (4.1.5)\n",
            "Requirement already satisfied: visualdl>=2.2.0 in /usr/local/lib/python3.10/dist-packages (from -r requirements.txt (line 4)) (2.5.3)\n",
            "Requirement already satisfied: opencv-python<=4.6.0 in /usr/local/lib/python3.10/dist-packages (from -r requirements.txt (line 5)) (4.5.5.64)\n",
            "Requirement already satisfied: PyYAML in /usr/local/lib/python3.10/dist-packages (from -r requirements.txt (line 6)) (6.0.1)\n",
            "Requirement already satisfied: shapely in /usr/local/lib/python3.10/dist-packages (from -r requirements.txt (line 7)) (2.0.2)\n",
            "Requirement already satisfied: scipy in /usr/local/lib/python3.10/dist-packages (from -r requirements.txt (line 8)) (1.11.4)\n",
            "Requirement already satisfied: terminaltables in /usr/local/lib/python3.10/dist-packages (from -r requirements.txt (line 9)) (3.1.10)\n",
            "Requirement already satisfied: Cython in /usr/local/lib/python3.10/dist-packages (from -r requirements.txt (line 10)) (3.0.8)\n",
            "Requirement already satisfied: pycocotools in /usr/local/lib/python3.10/dist-packages (from -r requirements.txt (line 11)) (2.0.7)\n",
            "Requirement already satisfied: setuptools in /usr/local/lib/python3.10/dist-packages (from -r requirements.txt (line 12)) (69.0.3)\n",
            "Requirement already satisfied: Pillow in /usr/local/lib/python3.10/dist-packages (from -r requirements.txt (line 13)) (9.4.0)\n",
            "Requirement already satisfied: lap in /usr/local/lib/python3.10/dist-packages (from -r requirements.txt (line 16)) (0.4.0)\n",
            "Requirement already satisfied: motmetrics in /usr/local/lib/python3.10/dist-packages (from -r requirements.txt (line 17)) (1.4.0)\n",
            "Requirement already satisfied: sklearn==0.0 in /usr/local/lib/python3.10/dist-packages (from -r requirements.txt (line 18)) (0.0)\n",
            "Requirement already satisfied: pyclipper in /usr/local/lib/python3.10/dist-packages (from -r requirements.txt (line 21)) (1.3.0.post5)\n",
            "Requirement already satisfied: imgaug>=0.4.0 in /usr/local/lib/python3.10/dist-packages (from -r requirements.txt (line 24)) (0.4.0)\n",
            "Requirement already satisfied: scikit-learn in /usr/local/lib/python3.10/dist-packages (from sklearn==0.0->-r requirements.txt (line 18)) (1.2.2)\n",
            "Requirement already satisfied: typing-extensions>=4.7.0 in /usr/local/lib/python3.10/dist-packages (from typeguard->-r requirements.txt (line 3)) (4.9.0)\n",
            "Requirement already satisfied: bce-python-sdk in /usr/local/lib/python3.10/dist-packages (from visualdl>=2.2.0->-r requirements.txt (line 4)) (0.9.4)\n",
            "Requirement already satisfied: flask>=1.1.1 in /usr/local/lib/python3.10/dist-packages (from visualdl>=2.2.0->-r requirements.txt (line 4)) (2.2.5)\n",
            "Requirement already satisfied: Flask-Babel>=3.0.0 in /usr/local/lib/python3.10/dist-packages (from visualdl>=2.2.0->-r requirements.txt (line 4)) (4.0.0)\n",
            "Requirement already satisfied: protobuf>=3.20.0 in /usr/local/lib/python3.10/dist-packages (from visualdl>=2.2.0->-r requirements.txt (line 4)) (3.20.0)\n",
            "Requirement already satisfied: requests in /usr/local/lib/python3.10/dist-packages (from visualdl>=2.2.0->-r requirements.txt (line 4)) (2.31.0)\n",
            "Requirement already satisfied: six>=1.14.0 in /usr/local/lib/python3.10/dist-packages (from visualdl>=2.2.0->-r requirements.txt (line 4)) (1.16.0)\n",
            "Requirement already satisfied: matplotlib in /usr/local/lib/python3.10/dist-packages (from visualdl>=2.2.0->-r requirements.txt (line 4)) (3.7.1)\n",
            "Requirement already satisfied: pandas in /usr/local/lib/python3.10/dist-packages (from visualdl>=2.2.0->-r requirements.txt (line 4)) (1.5.3)\n",
            "Requirement already satisfied: packaging in /usr/local/lib/python3.10/dist-packages (from visualdl>=2.2.0->-r requirements.txt (line 4)) (23.2)\n",
            "Requirement already satisfied: rarfile in /usr/local/lib/python3.10/dist-packages (from visualdl>=2.2.0->-r requirements.txt (line 4)) (4.1)\n",
            "Requirement already satisfied: psutil in /usr/local/lib/python3.10/dist-packages (from visualdl>=2.2.0->-r requirements.txt (line 4)) (5.9.5)\n",
            "Requirement already satisfied: xmltodict>=0.12.0 in /usr/local/lib/python3.10/dist-packages (from motmetrics->-r requirements.txt (line 17)) (0.13.0)\n",
            "Requirement already satisfied: scikit-image>=0.14.2 in /usr/local/lib/python3.10/dist-packages (from imgaug>=0.4.0->-r requirements.txt (line 24)) (0.19.3)\n",
            "Requirement already satisfied: imageio in /usr/local/lib/python3.10/dist-packages (from imgaug>=0.4.0->-r requirements.txt (line 24)) (2.31.6)\n",
            "Requirement already satisfied: Werkzeug>=2.2.2 in /usr/local/lib/python3.10/dist-packages (from flask>=1.1.1->visualdl>=2.2.0->-r requirements.txt (line 4)) (3.0.1)\n",
            "Requirement already satisfied: Jinja2>=3.0 in /usr/local/lib/python3.10/dist-packages (from flask>=1.1.1->visualdl>=2.2.0->-r requirements.txt (line 4)) (3.1.3)\n",
            "Requirement already satisfied: itsdangerous>=2.0 in /usr/local/lib/python3.10/dist-packages (from flask>=1.1.1->visualdl>=2.2.0->-r requirements.txt (line 4)) (2.1.2)\n",
            "Requirement already satisfied: click>=8.0 in /usr/local/lib/python3.10/dist-packages (from flask>=1.1.1->visualdl>=2.2.0->-r requirements.txt (line 4)) (8.1.7)\n",
            "Requirement already satisfied: Babel>=2.12 in /usr/local/lib/python3.10/dist-packages (from Flask-Babel>=3.0.0->visualdl>=2.2.0->-r requirements.txt (line 4)) (2.14.0)\n",
            "Requirement already satisfied: pytz>=2022.7 in /usr/local/lib/python3.10/dist-packages (from Flask-Babel>=3.0.0->visualdl>=2.2.0->-r requirements.txt (line 4)) (2023.4)\n",
            "Requirement already satisfied: contourpy>=1.0.1 in /usr/local/lib/python3.10/dist-packages (from matplotlib->visualdl>=2.2.0->-r requirements.txt (line 4)) (1.2.0)\n",
            "Requirement already satisfied: cycler>=0.10 in /usr/local/lib/python3.10/dist-packages (from matplotlib->visualdl>=2.2.0->-r requirements.txt (line 4)) (0.12.1)\n",
            "Requirement already satisfied: fonttools>=4.22.0 in /usr/local/lib/python3.10/dist-packages (from matplotlib->visualdl>=2.2.0->-r requirements.txt (line 4)) (4.48.1)\n",
            "Requirement already satisfied: kiwisolver>=1.0.1 in /usr/local/lib/python3.10/dist-packages (from matplotlib->visualdl>=2.2.0->-r requirements.txt (line 4)) (1.4.5)\n",
            "Requirement already satisfied: pyparsing>=2.3.1 in /usr/local/lib/python3.10/dist-packages (from matplotlib->visualdl>=2.2.0->-r requirements.txt (line 4)) (3.1.1)\n",
            "Requirement already satisfied: python-dateutil>=2.7 in /usr/local/lib/python3.10/dist-packages (from matplotlib->visualdl>=2.2.0->-r requirements.txt (line 4)) (2.8.2)\n",
            "Requirement already satisfied: networkx>=2.2 in /usr/local/lib/python3.10/dist-packages (from scikit-image>=0.14.2->imgaug>=0.4.0->-r requirements.txt (line 24)) (3.2.1)\n",
            "Requirement already satisfied: tifffile>=2019.7.26 in /usr/local/lib/python3.10/dist-packages (from scikit-image>=0.14.2->imgaug>=0.4.0->-r requirements.txt (line 24)) (2024.1.30)\n",
            "Requirement already satisfied: PyWavelets>=1.1.1 in /usr/local/lib/python3.10/dist-packages (from scikit-image>=0.14.2->imgaug>=0.4.0->-r requirements.txt (line 24)) (1.5.0)\n",
            "Requirement already satisfied: pycryptodome>=3.8.0 in /usr/local/lib/python3.10/dist-packages (from bce-python-sdk->visualdl>=2.2.0->-r requirements.txt (line 4)) (3.20.0)\n",
            "Requirement already satisfied: future>=0.6.0 in /usr/local/lib/python3.10/dist-packages (from bce-python-sdk->visualdl>=2.2.0->-r requirements.txt (line 4)) (0.18.3)\n",
            "Requirement already satisfied: charset-normalizer<4,>=2 in /usr/local/lib/python3.10/dist-packages (from requests->visualdl>=2.2.0->-r requirements.txt (line 4)) (3.3.2)\n",
            "Requirement already satisfied: idna<4,>=2.5 in /usr/local/lib/python3.10/dist-packages (from requests->visualdl>=2.2.0->-r requirements.txt (line 4)) (3.6)\n",
            "Requirement already satisfied: urllib3<3,>=1.21.1 in /usr/local/lib/python3.10/dist-packages (from requests->visualdl>=2.2.0->-r requirements.txt (line 4)) (2.0.7)\n",
            "Requirement already satisfied: certifi>=2017.4.17 in /usr/local/lib/python3.10/dist-packages (from requests->visualdl>=2.2.0->-r requirements.txt (line 4)) (2024.2.2)\n",
            "Requirement already satisfied: joblib>=1.1.1 in /usr/local/lib/python3.10/dist-packages (from scikit-learn->sklearn==0.0->-r requirements.txt (line 18)) (1.3.2)\n",
            "Requirement already satisfied: threadpoolctl>=2.0.0 in /usr/local/lib/python3.10/dist-packages (from scikit-learn->sklearn==0.0->-r requirements.txt (line 18)) (3.2.0)\n",
            "Requirement already satisfied: MarkupSafe>=2.0 in /usr/local/lib/python3.10/dist-packages (from Jinja2>=3.0->flask>=1.1.1->visualdl>=2.2.0->-r requirements.txt (line 4)) (2.1.5)\n"
          ]
        }
      ]
    },
    {
      "cell_type": "markdown",
      "source": [
        "It will create a file and that will contain\n",
        "1. model weights (model.pdiparams)\n",
        "2. contain information about parameter (model.pdiparams.info)\n",
        "3. conttain model structure description (model.pdmodel)\n",
        "4. preprcessing the configuration file  (infer_cfg.yml)"
      ],
      "metadata": {
        "id": "IZkdT7Qbgit5"
      }
    },
    {
      "cell_type": "code",
      "source": [
        "!python tools/export_model.py -c configs/dino/dino_r50_4scale_1x_coco.yml --output_dir=./inference_model \\\n",
        " -o weights=https://paddledet.bj.bcebos.com/models/dino_r50_4scale_1x_coco.pdparams"
      ],
      "metadata": {
        "colab": {
          "base_uri": "https://localhost:8080/"
        },
        "id": "rhewL-DN_91w",
        "outputId": "824ea042-31b4-4767-d9f3-f963682d52cd"
      },
      "execution_count": null,
      "outputs": [
        {
          "output_type": "stream",
          "name": "stdout",
          "text": [
            "/usr/local/lib/python3.10/dist-packages/setuptools/sandbox.py:13: DeprecationWarning: pkg_resources is deprecated as an API. See https://setuptools.pypa.io/en/latest/pkg_resources.html\n",
            "  import pkg_resources\n",
            "/usr/local/lib/python3.10/dist-packages/pkg_resources/__init__.py:2868: DeprecationWarning: Deprecated call to `pkg_resources.declare_namespace('google')`.\n",
            "Implementing implicit namespace packages (as specified in PEP 420) is preferred to `pkg_resources.declare_namespace`. See https://setuptools.pypa.io/en/latest/references/keywords.html#keyword-namespace-packages\n",
            "  declare_namespace(pkg)\n",
            "/usr/local/lib/python3.10/dist-packages/pkg_resources/__init__.py:2868: DeprecationWarning: Deprecated call to `pkg_resources.declare_namespace('google.cloud')`.\n",
            "Implementing implicit namespace packages (as specified in PEP 420) is preferred to `pkg_resources.declare_namespace`. See https://setuptools.pypa.io/en/latest/references/keywords.html#keyword-namespace-packages\n",
            "  declare_namespace(pkg)\n",
            "/usr/local/lib/python3.10/dist-packages/pkg_resources/__init__.py:2348: DeprecationWarning: Deprecated call to `pkg_resources.declare_namespace('google')`.\n",
            "Implementing implicit namespace packages (as specified in PEP 420) is preferred to `pkg_resources.declare_namespace`. See https://setuptools.pypa.io/en/latest/references/keywords.html#keyword-namespace-packages\n",
            "  declare_namespace(parent)\n",
            "/usr/local/lib/python3.10/dist-packages/pkg_resources/__init__.py:2868: DeprecationWarning: Deprecated call to `pkg_resources.declare_namespace('mpl_toolkits')`.\n",
            "Implementing implicit namespace packages (as specified in PEP 420) is preferred to `pkg_resources.declare_namespace`. See https://setuptools.pypa.io/en/latest/references/keywords.html#keyword-namespace-packages\n",
            "  declare_namespace(pkg)\n",
            "/usr/local/lib/python3.10/dist-packages/pkg_resources/__init__.py:2868: DeprecationWarning: Deprecated call to `pkg_resources.declare_namespace('sphinxcontrib')`.\n",
            "Implementing implicit namespace packages (as specified in PEP 420) is preferred to `pkg_resources.declare_namespace`. See https://setuptools.pypa.io/en/latest/references/keywords.html#keyword-namespace-packages\n",
            "  declare_namespace(pkg)\n",
            "Warning: import ppdet from source directory without installing, run 'python setup.py install' to install ppdet firstly\n",
            "[02/11 09:57:41] ppdet.utils.checkpoint INFO: Finish loading model weights: /root/.cache/paddle/weights/dino_r50_4scale_1x_coco.pdparams\n",
            "[02/11 09:57:41] ppdet.data.source.category WARNING: anno_file 'dataset/coco/annotations/instances_val2017.json' is None or not set or not exist, please recheck TrainDataset/EvalDataset/TestDataset.anno_path, otherwise the default categories will be used by metric_type.\n",
            "[02/11 09:57:41] ppdet.data.source.category WARNING: metric_type: COCO, load default categories of COCO.\n",
            "[02/11 09:57:41] ppdet.engine INFO: Export inference config file to ./inference_model/dino_r50_4scale_1x_coco/infer_cfg.yml\n",
            "Traceback (most recent call last):\n",
            "  File \"/content/PaddleDetection/PaddleDetection/PaddleDetection/PaddleDetection/PaddleDetection/PaddleDetection/tools/export_model.py\", line 118, in <module>\n",
            "    main()\n",
            "  File \"/content/PaddleDetection/PaddleDetection/PaddleDetection/PaddleDetection/PaddleDetection/PaddleDetection/tools/export_model.py\", line 114, in main\n",
            "    run(FLAGS, cfg)\n",
            "  File \"/content/PaddleDetection/PaddleDetection/PaddleDetection/PaddleDetection/PaddleDetection/PaddleDetection/tools/export_model.py\", line 80, in run\n",
            "    trainer.export(FLAGS.output_dir, for_fd=FLAGS.for_fd)\n",
            "  File \"/content/PaddleDetection/PaddleDetection/PaddleDetection/PaddleDetection/PaddleDetection/PaddleDetection/ppdet/engine/trainer.py\", line 1229, in export\n",
            "    static_model, pruned_input_spec = self._get_infer_cfg_and_input_spec(\n",
            "  File \"/content/PaddleDetection/PaddleDetection/PaddleDetection/PaddleDetection/PaddleDetection/PaddleDetection/ppdet/engine/trainer.py\", line 1181, in _get_infer_cfg_and_input_spec\n",
            "    input_spec, static_model.forward.main_program,\n",
            "  File \"/usr/local/lib/python3.10/dist-packages/paddle/fluid/dygraph/dygraph_to_static/program_translator.py\", line 734, in main_program\n",
            "    concrete_program = self.concrete_program\n",
            "  File \"/usr/local/lib/python3.10/dist-packages/paddle/fluid/dygraph/dygraph_to_static/program_translator.py\", line 537, in concrete_program\n",
            "    return self.concrete_program_specify_input_spec(input_spec=None)\n",
            "  File \"/usr/local/lib/python3.10/dist-packages/paddle/fluid/dygraph/dygraph_to_static/program_translator.py\", line 577, in concrete_program_specify_input_spec\n",
            "    concrete_program, _ = self.get_concrete_program(\n",
            "  File \"/usr/local/lib/python3.10/dist-packages/paddle/fluid/dygraph/dygraph_to_static/program_translator.py\", line 485, in get_concrete_program\n",
            "    concrete_program, partial_program_layer = self._program_cache[cache_key]\n",
            "  File \"/usr/local/lib/python3.10/dist-packages/paddle/fluid/dygraph/dygraph_to_static/program_translator.py\", line 955, in __getitem__\n",
            "    self._caches[item_id] = self._build_once(item)\n",
            "  File \"/usr/local/lib/python3.10/dist-packages/paddle/fluid/dygraph/dygraph_to_static/program_translator.py\", line 939, in _build_once\n",
            "    concrete_program = ConcreteProgram.from_func_spec(\n",
            "  File \"<decorator-gen-119>\", line 2, in from_func_spec\n",
            "  File \"/usr/local/lib/python3.10/dist-packages/paddle/fluid/wrapped_decorator.py\", line 26, in __impl__\n",
            "    return wrapped_func(*args, **kwargs)\n",
            "  File \"/usr/local/lib/python3.10/dist-packages/paddle/fluid/dygraph/base.py\", line 67, in __impl__\n",
            "    return func(*args, **kwargs)\n",
            "  File \"/usr/local/lib/python3.10/dist-packages/paddle/fluid/dygraph/dygraph_to_static/program_translator.py\", line 895, in from_func_spec\n",
            "    error_data.raise_new_exception()\n",
            "  File \"/usr/local/lib/python3.10/dist-packages/paddle/fluid/dygraph/dygraph_to_static/error.py\", line 350, in raise_new_exception\n",
            "    six.exec_(\"raise new_exception from None\")\n",
            "  File \"<string>\", line 1, in <module>\n",
            "ValueError: In transformed code:\n",
            "\n",
            "    File \"/content/PaddleDetection/PaddleDetection/PaddleDetection/PaddleDetection/PaddleDetection/PaddleDetection/ppdet/modeling/architectures/meta_arch.py\", line 59, in forward\n",
            "\tif self.training:\n",
            "    File \"/content/PaddleDetection/PaddleDetection/PaddleDetection/PaddleDetection/PaddleDetection/PaddleDetection/ppdet/modeling/architectures/meta_arch.py\", line 69, in forward\n",
            "\tfor inp in inputs_list:\n",
            "    File \"/content/PaddleDetection/PaddleDetection/PaddleDetection/PaddleDetection/PaddleDetection/PaddleDetection/ppdet/modeling/architectures/meta_arch.py\", line 76, in forward\n",
            "\touts.append(self.get_pred())\n",
            "    File \"/content/PaddleDetection/PaddleDetection/PaddleDetection/PaddleDetection/PaddleDetection/PaddleDetection/ppdet/modeling/architectures/detr.py\", line 118, in get_pred\n",
            "\treturn self._forward()\n",
            "    File \"/content/PaddleDetection/PaddleDetection/PaddleDetection/PaddleDetection/PaddleDetection/PaddleDetection/ppdet/modeling/architectures/detr.py\", line 89, in _forward\n",
            "\tout_transformer = self.transformer(body_feats, pad_mask, self.inputs)\n",
            "    File \"/content/PaddleDetection/PaddleDetection/PaddleDetection/PaddleDetection/PaddleDetection/PaddleDetection/ppdet/modeling/transformers/dino_transformer.py\", line 402, in forward\n",
            "\t(feat_flatten, spatial_shapes, level_start_index, mask_flatten,\n",
            "    File \"/content/PaddleDetection/PaddleDetection/PaddleDetection/PaddleDetection/PaddleDetection/PaddleDetection/ppdet/modeling/transformers/dino_transformer.py\", line 391, in _get_encoder_input\n",
            "            paddle.stack(spatial_shapes).astype('int64'))\n",
            "        # [l] start index of each level\n",
            "        level_start_index = paddle.concat([\n",
            "        ~~~~~~~~~~~~~~~~~~~~~~~~~~~~~~~~~~~ <--- HERE\n",
            "            paddle.zeros(\n",
            "                [1], dtype='int64'), spatial_shapes.prod(1).cumsum(0)[:-1]\n",
            "\n",
            "    File \"/usr/local/lib/python3.10/dist-packages/paddle/tensor/manipulation.py\", line 1215, in concat\n",
            "\thelper.append_op(\n",
            "    File \"/usr/local/lib/python3.10/dist-packages/paddle/fluid/layer_helper.py\", line 45, in append_op\n",
            "\treturn self.main_program.current_block().append_op(*args, **kwargs)\n",
            "    File \"/usr/local/lib/python3.10/dist-packages/paddle/fluid/framework.py\", line 4040, in append_op\n",
            "\top = Operator(\n",
            "    File \"/usr/local/lib/python3.10/dist-packages/paddle/fluid/framework.py\", line 3037, in __init__\n",
            "\tself.desc.infer_shape(self.block.desc)\n",
            "\n",
            "    ValueError: (InvalidArgument) The shape of input[0] and input[1] is expected to be equal.But received input[0]'s shape = [1], input[1]'s shape = [3, 1].\n",
            "  [Hint: Expected inputs_dims[i].size() == out_dims.size(), but received inputs_dims[i].size():2 != out_dims.size():1.] (at /paddle/paddle/phi/kernels/funcs/concat_funcs.h:55)\n",
            "  [operator < concat > error]\n",
            "\n"
          ]
        }
      ]
    },
    {
      "cell_type": "markdown",
      "source": [
        "Import necessary function"
      ],
      "metadata": {
        "id": "BUc9THf1hfHU"
      }
    },
    {
      "cell_type": "code",
      "source": [
        "from deploy.python.keypoint_infer import KeyPointDetector\n",
        "from deploy.python.infer import Detector, PredictConfig\n",
        "from deploy.python.visualize import visualize_pose, get_color_map_list, visualize_box_mask, get_color"
      ],
      "metadata": {
        "id": "Gf7jhUixDb0W"
      },
      "execution_count": null,
      "outputs": []
    },
    {
      "cell_type": "markdown",
      "source": [
        "Since the font size is hardcoded in the file making the text nearly impossible to read for high resoltion images, thus we would write our own code for plotting the results. for this using follwing function\n"
      ],
      "metadata": {
        "id": "mFWew0Ixhi_q"
      }
    },
    {
      "cell_type": "code",
      "source": [
        "def draw_box(im, np_boxes, labels, threshold=0.5):\n",
        "    im = Image.fromarray(im)\n",
        "    np_boxes=np_boxes['boxes']\n",
        "    draw_thickness = max(round(sum(im.size) / 2 * 0.01), 2)\n",
        "    draw = ImageDraw.Draw(im)\n",
        "    clsid2color = {}\n",
        "    color_list = get_color_map_list(len(labels))\n",
        "    expect_boxes = (np_boxes[:, 1] > threshold) & (np_boxes[:, 0] > -1)\n",
        "    np_boxes = np_boxes[expect_boxes, :]\n",
        "\n",
        "    for dt in np_boxes:\n",
        "        clsid, bbox, score = int(dt[0]), dt[2:], dt[1]\n",
        "        if clsid not in clsid2color:\n",
        "            clsid2color[clsid] = color_list[clsid]\n",
        "        color = tuple(clsid2color[clsid])\n",
        "\n",
        "        xmin, ymin, xmax, ymax = bbox\n",
        "        draw.line(\n",
        "            [(xmin, ymin), (xmin, ymax), (xmax, ymax), (xmax, ymin), (xmin, ymin)],\n",
        "            width=draw_thickness // 2,\n",
        "            fill=color,\n",
        "        )\n",
        "        font = ImageFont.truetype(\n",
        "            \"LiberationSans-Regular.ttf\", draw_thickness * 2\n",
        "        )\n",
        "\n",
        "        # draw label\n",
        "        text = \"{} {:.4f}\".format(labels[clsid], score)\n",
        "        new_box = draw.textbbox((0, 0), text, font=font)\n",
        "        tw = new_box[2] - new_box[0]  # bottom-top\n",
        "        th = new_box[3] - new_box[1]  # right-left\n",
        "        draw.rectangle([(xmin + 1, ymin - th), (xmin + tw + 1, ymin)], fill=color)\n",
        "        draw.text((xmin + 1, ymin - th), text, fill=(255, 255, 255), font=font)\n",
        "    return im"
      ],
      "metadata": {
        "id": "c2SQ5v_9AvLd"
      },
      "execution_count": null,
      "outputs": []
    },
    {
      "cell_type": "code",
      "source": [
        "!python deploy/python/infer.py --model_dir=./inference_model/dino_r50_4scale_1x_coco --image_file=\"object-detection_input_image.jpg\" --device=GPU\n"
      ],
      "metadata": {
        "colab": {
          "base_uri": "https://localhost:8080/"
        },
        "id": "GrN-DW0Qnje1",
        "outputId": "21fedb16-3fb0-426b-d397-854064561006"
      },
      "execution_count": null,
      "outputs": [
        {
          "output_type": "stream",
          "name": "stdout",
          "text": [
            "/usr/local/lib/python3.10/dist-packages/setuptools/sandbox.py:13: DeprecationWarning: pkg_resources is deprecated as an API. See https://setuptools.pypa.io/en/latest/pkg_resources.html\n",
            "  import pkg_resources\n",
            "/usr/local/lib/python3.10/dist-packages/pkg_resources/__init__.py:2868: DeprecationWarning: Deprecated call to `pkg_resources.declare_namespace('google')`.\n",
            "Implementing implicit namespace packages (as specified in PEP 420) is preferred to `pkg_resources.declare_namespace`. See https://setuptools.pypa.io/en/latest/references/keywords.html#keyword-namespace-packages\n",
            "  declare_namespace(pkg)\n",
            "/usr/local/lib/python3.10/dist-packages/pkg_resources/__init__.py:2868: DeprecationWarning: Deprecated call to `pkg_resources.declare_namespace('google.cloud')`.\n",
            "Implementing implicit namespace packages (as specified in PEP 420) is preferred to `pkg_resources.declare_namespace`. See https://setuptools.pypa.io/en/latest/references/keywords.html#keyword-namespace-packages\n",
            "  declare_namespace(pkg)\n",
            "/usr/local/lib/python3.10/dist-packages/pkg_resources/__init__.py:2348: DeprecationWarning: Deprecated call to `pkg_resources.declare_namespace('google')`.\n",
            "Implementing implicit namespace packages (as specified in PEP 420) is preferred to `pkg_resources.declare_namespace`. See https://setuptools.pypa.io/en/latest/references/keywords.html#keyword-namespace-packages\n",
            "  declare_namespace(parent)\n",
            "/usr/local/lib/python3.10/dist-packages/pkg_resources/__init__.py:2868: DeprecationWarning: Deprecated call to `pkg_resources.declare_namespace('mpl_toolkits')`.\n",
            "Implementing implicit namespace packages (as specified in PEP 420) is preferred to `pkg_resources.declare_namespace`. See https://setuptools.pypa.io/en/latest/references/keywords.html#keyword-namespace-packages\n",
            "  declare_namespace(pkg)\n",
            "/usr/local/lib/python3.10/dist-packages/pkg_resources/__init__.py:2868: DeprecationWarning: Deprecated call to `pkg_resources.declare_namespace('sphinxcontrib')`.\n",
            "Implementing implicit namespace packages (as specified in PEP 420) is preferred to `pkg_resources.declare_namespace`. See https://setuptools.pypa.io/en/latest/references/keywords.html#keyword-namespace-packages\n",
            "  declare_namespace(pkg)\n",
            "/usr/local/lib/python3.10/dist-packages/paddle/fluid/framework.py:634: UserWarning: You are using GPU version Paddle, but your CUDA device is not set properly. CPU device will be used by default.\n",
            "  warnings.warn(\n",
            "-----------  Running Arguments -----------\n",
            "action_file: None\n",
            "batch_size: 1\n",
            "camera_id: -1\n",
            "collect_trt_shape_info: False\n",
            "combine_method: nms\n",
            "cpu_threads: 1\n",
            "device: GPU\n",
            "enable_mkldnn: False\n",
            "enable_mkldnn_bfloat16: False\n",
            "image_dir: None\n",
            "image_file: object-detection_input_image.jpg\n",
            "match_metric: ios\n",
            "match_threshold: 0.6\n",
            "model_dir: ./inference_model/dino_r50_4scale_1x_coco\n",
            "output_dir: output\n",
            "overlap_ratio: [0.25, 0.25]\n",
            "random_pad: False\n",
            "reid_batch_size: 50\n",
            "reid_model_dir: None\n",
            "run_benchmark: False\n",
            "run_mode: paddle\n",
            "save_images: True\n",
            "save_mot_txt_per_img: False\n",
            "save_mot_txts: False\n",
            "save_results: False\n",
            "scaled: False\n",
            "slice_infer: False\n",
            "slice_size: [640, 640]\n",
            "threshold: 0.5\n",
            "tracker_config: None\n",
            "trt_calib_mode: False\n",
            "trt_max_shape: 1280\n",
            "trt_min_shape: 1\n",
            "trt_opt_shape: 640\n",
            "tuned_trt_shape_file: shape_range_info.pbtxt\n",
            "use_coco_category: False\n",
            "use_dark: True\n",
            "use_fd_format: False\n",
            "use_gpu: False\n",
            "video_file: None\n",
            "window_size: 50\n",
            "------------------------------------------\n",
            "-----------  Model Configuration -----------\n",
            "Model Arch: DETR\n",
            "Transform Order: \n",
            "--transform op: Resize\n",
            "--transform op: NormalizeImage\n",
            "--transform op: Permute\n",
            "--------------------------------------------\n",
            "Traceback (most recent call last):\n",
            "  File \"/content/PaddleDetection/PaddleDetection/PaddleDetection/PaddleDetection/PaddleDetection/PaddleDetection/deploy/python/infer.py\", line 1228, in <module>\n",
            "    main()\n",
            "  File \"/content/PaddleDetection/PaddleDetection/PaddleDetection/PaddleDetection/PaddleDetection/PaddleDetection/deploy/python/infer.py\", line 1161, in main\n",
            "    detector = eval(detector_func)(\n",
            "  File \"/content/PaddleDetection/PaddleDetection/PaddleDetection/PaddleDetection/PaddleDetection/PaddleDetection/deploy/python/infer.py\", line 107, in __init__\n",
            "    self.predictor, self.config = load_predictor(\n",
            "  File \"/content/PaddleDetection/PaddleDetection/PaddleDetection/PaddleDetection/PaddleDetection/PaddleDetection/deploy/python/infer.py\", line 982, in load_predictor\n",
            "    raise ValueError(\n",
            "ValueError: Cannot find any inference model in dir: ./inference_model/dino_r50_4scale_1x_coco,\n"
          ]
        }
      ]
    },
    {
      "cell_type": "code",
      "source": [],
      "metadata": {
        "id": "CehEjQ0InlSs"
      },
      "execution_count": null,
      "outputs": []
    },
    {
      "cell_type": "code",
      "source": [
        "\n",
        "!python deploy/python/infer.py --model_dir=./inference_model/dino_r50_4scale_1x_coco --video_file=object-detection.mp4 --device=GPU\n"
      ],
      "metadata": {
        "colab": {
          "base_uri": "https://localhost:8080/"
        },
        "id": "3JeSm1BdiOhx",
        "outputId": "60285893-7f54-4415-f7f1-6c1a5fd0badb"
      },
      "execution_count": null,
      "outputs": [
        {
          "output_type": "stream",
          "name": "stdout",
          "text": [
            "/usr/local/lib/python3.10/dist-packages/setuptools/sandbox.py:13: DeprecationWarning: pkg_resources is deprecated as an API. See https://setuptools.pypa.io/en/latest/pkg_resources.html\n",
            "  import pkg_resources\n",
            "/usr/local/lib/python3.10/dist-packages/pkg_resources/__init__.py:2868: DeprecationWarning: Deprecated call to `pkg_resources.declare_namespace('google')`.\n",
            "Implementing implicit namespace packages (as specified in PEP 420) is preferred to `pkg_resources.declare_namespace`. See https://setuptools.pypa.io/en/latest/references/keywords.html#keyword-namespace-packages\n",
            "  declare_namespace(pkg)\n",
            "/usr/local/lib/python3.10/dist-packages/pkg_resources/__init__.py:2868: DeprecationWarning: Deprecated call to `pkg_resources.declare_namespace('google.cloud')`.\n",
            "Implementing implicit namespace packages (as specified in PEP 420) is preferred to `pkg_resources.declare_namespace`. See https://setuptools.pypa.io/en/latest/references/keywords.html#keyword-namespace-packages\n",
            "  declare_namespace(pkg)\n",
            "/usr/local/lib/python3.10/dist-packages/pkg_resources/__init__.py:2348: DeprecationWarning: Deprecated call to `pkg_resources.declare_namespace('google')`.\n",
            "Implementing implicit namespace packages (as specified in PEP 420) is preferred to `pkg_resources.declare_namespace`. See https://setuptools.pypa.io/en/latest/references/keywords.html#keyword-namespace-packages\n",
            "  declare_namespace(parent)\n",
            "/usr/local/lib/python3.10/dist-packages/pkg_resources/__init__.py:2868: DeprecationWarning: Deprecated call to `pkg_resources.declare_namespace('mpl_toolkits')`.\n",
            "Implementing implicit namespace packages (as specified in PEP 420) is preferred to `pkg_resources.declare_namespace`. See https://setuptools.pypa.io/en/latest/references/keywords.html#keyword-namespace-packages\n",
            "  declare_namespace(pkg)\n",
            "/usr/local/lib/python3.10/dist-packages/pkg_resources/__init__.py:2868: DeprecationWarning: Deprecated call to `pkg_resources.declare_namespace('sphinxcontrib')`.\n",
            "Implementing implicit namespace packages (as specified in PEP 420) is preferred to `pkg_resources.declare_namespace`. See https://setuptools.pypa.io/en/latest/references/keywords.html#keyword-namespace-packages\n",
            "  declare_namespace(pkg)\n",
            "/usr/local/lib/python3.10/dist-packages/paddle/fluid/framework.py:634: UserWarning: You are using GPU version Paddle, but your CUDA device is not set properly. CPU device will be used by default.\n",
            "  warnings.warn(\n",
            "-----------  Running Arguments -----------\n",
            "action_file: None\n",
            "batch_size: 1\n",
            "camera_id: -1\n",
            "collect_trt_shape_info: False\n",
            "combine_method: nms\n",
            "cpu_threads: 1\n",
            "device: GPU\n",
            "enable_mkldnn: False\n",
            "enable_mkldnn_bfloat16: False\n",
            "image_dir: None\n",
            "image_file: None\n",
            "match_metric: ios\n",
            "match_threshold: 0.6\n",
            "model_dir: ./inference_model/dino_r50_4scale_1x_coco\n",
            "output_dir: output\n",
            "overlap_ratio: [0.25, 0.25]\n",
            "random_pad: False\n",
            "reid_batch_size: 50\n",
            "reid_model_dir: None\n",
            "run_benchmark: False\n",
            "run_mode: paddle\n",
            "save_images: True\n",
            "save_mot_txt_per_img: False\n",
            "save_mot_txts: False\n",
            "save_results: False\n",
            "scaled: False\n",
            "slice_infer: False\n",
            "slice_size: [640, 640]\n",
            "threshold: 0.5\n",
            "tracker_config: None\n",
            "trt_calib_mode: False\n",
            "trt_max_shape: 1280\n",
            "trt_min_shape: 1\n",
            "trt_opt_shape: 640\n",
            "tuned_trt_shape_file: shape_range_info.pbtxt\n",
            "use_coco_category: False\n",
            "use_dark: True\n",
            "use_fd_format: False\n",
            "use_gpu: False\n",
            "video_file: object-detection.mp4\n",
            "window_size: 50\n",
            "------------------------------------------\n",
            "-----------  Model Configuration -----------\n",
            "Model Arch: DETR\n",
            "Transform Order: \n",
            "--transform op: Resize\n",
            "--transform op: NormalizeImage\n",
            "--transform op: Permute\n",
            "--------------------------------------------\n",
            "Traceback (most recent call last):\n",
            "  File \"/content/PaddleDetection/PaddleDetection/PaddleDetection/PaddleDetection/PaddleDetection/PaddleDetection/deploy/python/infer.py\", line 1228, in <module>\n",
            "    main()\n",
            "  File \"/content/PaddleDetection/PaddleDetection/PaddleDetection/PaddleDetection/PaddleDetection/PaddleDetection/deploy/python/infer.py\", line 1161, in main\n",
            "    detector = eval(detector_func)(\n",
            "  File \"/content/PaddleDetection/PaddleDetection/PaddleDetection/PaddleDetection/PaddleDetection/PaddleDetection/deploy/python/infer.py\", line 107, in __init__\n",
            "    self.predictor, self.config = load_predictor(\n",
            "  File \"/content/PaddleDetection/PaddleDetection/PaddleDetection/PaddleDetection/PaddleDetection/PaddleDetection/deploy/python/infer.py\", line 982, in load_predictor\n",
            "    raise ValueError(\n",
            "ValueError: Cannot find any inference model in dir: ./inference_model/dino_r50_4scale_1x_coco,\n"
          ]
        }
      ]
    },
    {
      "cell_type": "code",
      "source": [
        "def video_inference(video_file, detector, keypoint_or_object, output_name):\n",
        "  capture = cv2.VideoCapture(video_file)\n",
        "  width = int(capture.get(cv2.CAP_PROP_FRAME_WIDTH))\n",
        "  height = int(capture.get(cv2.CAP_PROP_FRAME_HEIGHT))\n",
        "  fps = int(capture.get(cv2.CAP_PROP_FPS))\n",
        "  out_path = output_name\n",
        "  fourcc = cv2.VideoWriter_fourcc(*\"mp4v\")\n",
        "  writer = cv2.VideoWriter(out_path, fourcc, fps, (width, height))\n",
        "  index = 1\n",
        "  while 1:\n",
        "      ret, frame = capture.read()\n",
        "      if not ret:\n",
        "          break\n",
        "      print(\"detect frame: %d\" % (index))\n",
        "      index += 1\n",
        "      results = detector.predict_image([frame[..., ::-1]], visual=False)\n",
        "      if keypoint_or_object==\"object\":\n",
        "        im = visualize_box_mask(\n",
        "            frame, results, PredictConfig(model_dir).labels, threshold=0.5\n",
        "        )\n",
        "      else:\n",
        "        im_results = {}\n",
        "        im_results[\"keypoint\"] = [results[\"keypoint\"], results[\"score\"]]\n",
        "        im = visualize_pose(frame, im_results, visual_thresh=0.3, returnimg=True)\n",
        "\n",
        "      im = np.array(im)\n",
        "      writer.write(im)\n",
        "\n",
        "  writer.release()"
      ],
      "metadata": {
        "id": "hPpSjhi2JONA"
      },
      "execution_count": null,
      "outputs": []
    },
    {
      "cell_type": "code",
      "source": [
        "video_inference(\"http://192.168.1.104:8080/video\", detector, \"object\", \"objects_in_video.mp4\")\n"
      ],
      "metadata": {
        "id": "lXiiFMalJTJj"
      },
      "execution_count": null,
      "outputs": []
    },
    {
      "cell_type": "code",
      "source": [],
      "metadata": {
        "id": "0jRWn8QEYq1A"
      },
      "execution_count": null,
      "outputs": []
    },
    {
      "cell_type": "code",
      "source": [],
      "metadata": {
        "id": "oU5Gly1AaIJ4"
      },
      "execution_count": null,
      "outputs": []
    }
  ],
  "metadata": {
    "colab": {
      "provenance": []
    },
    "kernelspec": {
      "display_name": "Python 3",
      "name": "python3"
    },
    "language_info": {
      "name": "python"
    }
  },
  "nbformat": 4,
  "nbformat_minor": 0
}